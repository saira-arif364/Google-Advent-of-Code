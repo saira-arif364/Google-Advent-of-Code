{
  "nbformat": 4,
  "nbformat_minor": 0,
  "metadata": {
    "colab": {
      "provenance": []
    },
    "kernelspec": {
      "name": "python3",
      "display_name": "Python 3"
    },
    "language_info": {
      "name": "python"
    }
  },
  "cells": [
    {
      "cell_type": "code",
      "source": [
        "import re\n",
        "from collections import defaultdict\n",
        "\n",
        "# Read the content of the specified file\n",
        "with open(\"/content/input 6.txt\", 'r') as file:\n",
        "    D = file.read().strip()\n",
        "\n",
        "L = D.split('\\n')\n",
        "ans = 0\n",
        "\n",
        "t, d = L\n",
        "times = [int(x) for x in t.split(':')[1].split()]\n",
        "dist = [int(x) for x in d.split(':')[1].split()]\n",
        "\n",
        "T = ''\n",
        "for t in times:\n",
        "    T += str(t)\n",
        "T = int(T)\n",
        "D = ''\n",
        "for d in dist:\n",
        "    D += str(d)\n",
        "D = int(D)\n",
        "\n",
        "def f(t, d):\n",
        "    # runs in O(log(t))\n",
        "    # let g(x) = x*(t-x) is maximized at t//2\n",
        "    # we want to know: what is the lowest value s.t. g(x) >= d\n",
        "    # we want to know: what is the highest value s.t. g(x) >= d\n",
        "    def g(x):\n",
        "        return x*(t-x)\n",
        "    lo = 0\n",
        "    hi = t//2\n",
        "    if hi*(t-hi) < d:\n",
        "        return 0\n",
        "    assert g(lo) < d and g(hi) >= d\n",
        "    while lo + 1 < hi:\n",
        "        m = (lo + hi) // 2\n",
        "        if g(m) >= d:\n",
        "            hi = m\n",
        "        else:\n",
        "            lo = m\n",
        "    assert lo + 1 == hi\n",
        "    assert g(lo) < d and g(hi) >= d\n",
        "    first = hi\n",
        "    assert g(first) >= d and g(first-1) < d\n",
        "\n",
        "    # g(x) == g(t-x), so there's symmetry about the midpoint t/2\n",
        "    last = int((t/2) + (t/2 - first))\n",
        "    assert g(last) >= d and g(last+1) < d, f'last={last} g(last)={g(last)} {g(last+1)} d={d}'\n",
        "    return last - first + 1\n",
        "\n",
        "ans = 1\n",
        "for i in range(len(times)):\n",
        "    ans *= f(times[i], dist[i])\n",
        "print(ans)\n",
        "print(f(T, D))\n"
      ],
      "metadata": {
        "id": "ytLcsjDXIFRk"
      },
      "execution_count": null,
      "outputs": []
    }
  ]
}