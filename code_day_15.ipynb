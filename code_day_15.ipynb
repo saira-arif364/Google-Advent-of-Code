{
  "nbformat": 4,
  "nbformat_minor": 0,
  "metadata": {
    "colab": {
      "provenance": []
    },
    "kernelspec": {
      "name": "python3",
      "display_name": "Python 3"
    },
    "language_info": {
      "name": "python"
    }
  },
  "cells": [
    {
      "cell_type": "code",
      "source": [
        "import sys\n",
        "import re\n",
        "from copy import deepcopy\n",
        "from math import gcd\n",
        "from collections import defaultdict, Counter, deque\n",
        "\n",
        "with open('/content/input 15.txt', 'r') as file:\n",
        "    D = file.read().strip()\n",
        "\n",
        "L = D.split('\\n')\n",
        "G = [[c for c in row] for row in L]\n",
        "\n",
        "def f(s):\n",
        "    h = 0\n",
        "    for c in s:\n",
        "        h = ((h + ord(c)) * 17) % 256\n",
        "    return h\n",
        "\n",
        "cmds = D.split(',')\n",
        "\n",
        "p1 = 0\n",
        "for cmd in cmds:\n",
        "    p1 += f(cmd)\n",
        "print(p1)\n",
        "\n",
        "BOX = [[] for _ in range(256)]\n",
        "for cmd in cmds:\n",
        "    if cmd[-1] == '-':\n",
        "        name = cmd[:-1]\n",
        "        h = f(name)\n",
        "        BOX[h] = [(n, v) for (n, v) in BOX[h] if n != name]\n",
        "    elif cmd[-2] == '=':\n",
        "        name = cmd[:-2]\n",
        "        h = f(name)\n",
        "        len_ = int(cmd[-1])\n",
        "        if name in [n for (n, v) in BOX[h]]:\n",
        "            BOX[h] = [(n, len_ if name == n else v) for (n, v) in BOX[h]]\n",
        "        else:\n",
        "            BOX[h].append((name, len_))\n",
        "\n",
        "p2 = 0\n",
        "for i, box in enumerate(BOX):\n",
        "    for j, (n, v) in enumerate(box):\n",
        "        p2 += (i + 1) * (j + 1) * v\n",
        "print(p2)\n"
      ],
      "metadata": {
        "colab": {
          "base_uri": "https://localhost:8080/"
        },
        "id": "jCtSqBkui3AI",
        "outputId": "5e605d4c-a86f-48b8-f151-c06db327339a"
      },
      "execution_count": 1,
      "outputs": [
        {
          "output_type": "stream",
          "name": "stdout",
          "text": [
            "510792\n",
            "269410\n"
          ]
        }
      ]
    }
  ]
}