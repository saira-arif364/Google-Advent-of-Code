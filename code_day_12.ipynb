{
  "nbformat": 4,
  "nbformat_minor": 0,
  "metadata": {
    "colab": {
      "provenance": []
    },
    "kernelspec": {
      "name": "python3",
      "display_name": "Python 3"
    },
    "language_info": {
      "name": "python"
    }
  },
  "cells": [
    {
      "cell_type": "code",
      "source": [
        "import sys\n",
        "import re\n",
        "from copy import deepcopy\n",
        "from math import gcd\n",
        "from collections import defaultdict, Counter, deque\n",
        "\n",
        "filename = \"/content/input 12.txt\"\n",
        "D = open(filename).read().strip()\n",
        "L = D.split('\\n')\n",
        "G = [[c for c in row] for row in L]\n",
        "\n",
        "# i == current position within dots\n",
        "# bi == current position within blocks\n",
        "# current == length of current block of '#'\n",
        "# state space is len(dots) * len(blocks) * len(dots)\n",
        "DP = {}\n",
        "\n",
        "def f(dots, blocks, i, bi, current):\n",
        "    key = (i, bi, current)\n",
        "    if key in DP:\n",
        "        return DP[key]\n",
        "    if i == len(dots):\n",
        "        if bi == len(blocks) and current == 0:\n",
        "            return 1\n",
        "        elif bi == len(blocks) - 1 and blocks[bi] == current:\n",
        "            return 1\n",
        "        else:\n",
        "            return 0\n",
        "    ans = 0\n",
        "    for c in ['.', '#']:\n",
        "        if dots[i] == c or dots[i] == '?':\n",
        "            if c == '.' and current == 0:\n",
        "                ans += f(dots, blocks, i + 1, bi, 0)\n",
        "            elif c == '.' and current > 0 and bi < len(blocks) and blocks[bi] == current:\n",
        "                ans += f(dots, blocks, i + 1, bi + 1, 0)\n",
        "            elif c == '#':\n",
        "                ans += f(dots, blocks, i + 1, bi, current + 1)\n",
        "    DP[key] = ans\n",
        "    return ans\n",
        "\n",
        "for part2 in [False, True]:\n",
        "    ans = 0\n",
        "    for line in L:\n",
        "        dots, blocks = line.split()\n",
        "        if part2:\n",
        "            dots = '?'.join([dots, dots, dots, dots, dots])\n",
        "            blocks = ','.join([blocks, blocks, blocks, blocks, blocks])\n",
        "        blocks = [int(x) for x in blocks.split(',')]\n",
        "        DP.clear()\n",
        "        score = f(dots, blocks, 0, 0, 0)\n",
        "        # print(dots, blocks, score, len(DP))\n",
        "        ans += score\n",
        "    print(ans)\n"
      ],
      "metadata": {
        "colab": {
          "base_uri": "https://localhost:8080/"
        },
        "id": "nVMrgNe2Iy91",
        "outputId": "dd79d585-fce4-456d-d754-ca901f22c596"
      },
      "execution_count": 1,
      "outputs": [
        {
          "output_type": "stream",
          "name": "stdout",
          "text": [
            "7541\n",
            "17485169859432\n"
          ]
        }
      ]
    }
  ]
}