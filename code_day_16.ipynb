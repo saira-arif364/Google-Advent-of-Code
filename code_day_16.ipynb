{
  "nbformat": 4,
  "nbformat_minor": 0,
  "metadata": {
    "colab": {
      "provenance": []
    },
    "kernelspec": {
      "name": "python3",
      "display_name": "Python 3"
    },
    "language_info": {
      "name": "python"
    }
  },
  "cells": [
    {
      "cell_type": "code",
      "source": [
        "import sys\n",
        "import re\n",
        "from copy import deepcopy\n",
        "from math import gcd\n",
        "from collections import defaultdict, Counter, deque\n",
        "\n",
        "# Read data from the file\n",
        "file_path = \"/content/input 16.txt\"\n",
        "with open(file_path, 'r') as file:\n",
        "    D = file.read().strip()\n",
        "\n",
        "L = D.split('\\n')\n",
        "G = [[c for c in row] for row in L]\n",
        "\n",
        "R = len(G)\n",
        "C = len(G[0])\n",
        "\n",
        "DR = [-1, 0, 1, 0]\n",
        "DC = [0, 1, 0, -1]\n",
        "\n",
        "\n",
        "def step(r, c, d):\n",
        "    return (r + DR[d], c + DC[d], d)\n",
        "\n",
        "\n",
        "def score(sr, sc, sd):\n",
        "    POS = [(sr, sc, sd)]\n",
        "    SEEN = set()\n",
        "    SEEN2 = set()\n",
        "    while True:\n",
        "        NP = []\n",
        "        if not POS:\n",
        "            break\n",
        "        for (r, c, d) in POS:\n",
        "            if 0 <= r < R and 0 <= c < C:\n",
        "                SEEN.add((r, c))\n",
        "                if (r, c, d) in SEEN2:\n",
        "                    continue\n",
        "                SEEN2.add((r, c, d))\n",
        "                ch = G[r][c]\n",
        "                if ch == '.':\n",
        "                    NP.append(step(r, c, d))\n",
        "                elif ch == '/':\n",
        "                    NP.append(step(r, c, {0: 1, 1: 0, 2: 3, 3: 2}[d]))\n",
        "                elif ch == '\\\\':\n",
        "                    NP.append(step(r, c, {0: 3, 1: 2, 2: 1, 3: 0}[d]))\n",
        "                elif ch == '|':\n",
        "                    if d in [0, 2]:\n",
        "                        NP.append(step(r, c, d))\n",
        "                    else:\n",
        "                        NP.append(step(r, c, 0))\n",
        "                        NP.append(step(r, c, 2))\n",
        "                elif ch == '-':\n",
        "                    if d in [1, 3]:\n",
        "                        NP.append(step(r, c, d))\n",
        "                    else:\n",
        "                        NP.append(step(r, c, 1))\n",
        "                        NP.append(step(r, c, 3))\n",
        "                else:\n",
        "                    assert False\n",
        "        POS = NP\n",
        "    return len(SEEN)\n",
        "\n",
        "\n",
        "print(score(0, 0, 1))\n",
        "ans = 0\n",
        "for r in range(R):\n",
        "    ans = max(ans, score(r, 0, 1))\n",
        "    ans = max(ans, score(r, C - 1, 3))\n",
        "for c in range(C):\n",
        "    ans = max(ans, score(0, c, 2))\n",
        "    ans = max(ans, score(R - 1, c, 0))\n",
        "print(ans)\n"
      ],
      "metadata": {
        "colab": {
          "base_uri": "https://localhost:8080/"
        },
        "id": "7-j89mpQMfQs",
        "outputId": "812aeaf2-4e86-4b8e-adf3-22fe4b4f3941"
      },
      "execution_count": 1,
      "outputs": [
        {
          "output_type": "stream",
          "name": "stdout",
          "text": [
            "7482\n",
            "7896\n"
          ]
        }
      ]
    }
  ]
}