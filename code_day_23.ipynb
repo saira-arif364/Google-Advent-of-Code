{
  "nbformat": 4,
  "nbformat_minor": 0,
  "metadata": {
    "colab": {
      "provenance": []
    },
    "kernelspec": {
      "name": "python3",
      "display_name": "Python 3"
    },
    "language_info": {
      "name": "python"
    }
  },
  "cells": [
    {
      "cell_type": "code",
      "source": [
        "import sys\n",
        "from copy import deepcopy\n",
        "from collections import defaultdict, Counter, deque\n",
        "\n",
        "def read_data(file_path):\n",
        "    with open(file_path, 'r') as file:\n",
        "        D = file.read().strip()\n",
        "    L = D.split('\\n')\n",
        "    G = [[c for c in row] for row in L]\n",
        "    return G\n",
        "\n",
        "file_path = '/content/input 23.txt'\n",
        "G = read_data(file_path)\n",
        "\n",
        "R = len(G)\n",
        "C = len(G[0])\n",
        "\n",
        "sys.setrecursionlimit(10**6)\n",
        "\n",
        "def solve(part1):\n",
        "    V = set()\n",
        "    for r in range(R):\n",
        "        for c in range(C):\n",
        "            nbr = 0\n",
        "            for ch, dr, dc in [['^', -1, 0], ['v', 1, 0], ['<', 0, -1], ['>', 0, 1]]:\n",
        "                if 0 <= r + dr < R and 0 <= c + dc < C and G[r + dr][c + dc] != '#':\n",
        "                    nbr += 1\n",
        "            if nbr > 2 and G[r][c] != '#':\n",
        "                V.add((r, c))\n",
        "\n",
        "    for c in range(C):\n",
        "        if G[0][c] == '.':\n",
        "            V.add((0, c))\n",
        "            start = (0, c)\n",
        "        if G[R - 1][c] == '.':\n",
        "            V.add((R - 1, c))\n",
        "            end = (R - 1, c)\n",
        "\n",
        "    E = {}\n",
        "    for (rv, cv) in V:\n",
        "        E[(rv, cv)] = []\n",
        "        Q = deque([(rv, cv, 0)])\n",
        "        SEEN = set()\n",
        "        while Q:\n",
        "            r, c, d = Q.popleft()\n",
        "            if (r, c) in SEEN:\n",
        "                continue\n",
        "            SEEN.add((r, c))\n",
        "            if (r, c) in V and (r, c) != (rv, cv):\n",
        "                E[(rv, cv)].append(((r, c), d))\n",
        "                continue\n",
        "            for ch, dr, dc in [['^', -1, 0], ['v', 1, 0], ['<', 0, -1], ['>', 0, 1]]:\n",
        "                if 0 <= r + dr < R and 0 <= c + dc < C and G[r + dr][c + dc] != '#':\n",
        "                    if part1 and G[r][c] in ['<', '>', '^', 'v'] and G[r][c] != ch:\n",
        "                        continue\n",
        "                    Q.append((r + dr, c + dc, d + 1))\n",
        "\n",
        "    count = 0\n",
        "    ans = 0\n",
        "    SEEN = [[False for _ in range(C)] for _ in range(R)]\n",
        "    seen = set()\n",
        "\n",
        "    def dfs(v, d):\n",
        "        nonlocal count\n",
        "        nonlocal ans\n",
        "        count += 1\n",
        "        r, c = v\n",
        "        if SEEN[r][c]:\n",
        "            return\n",
        "        SEEN[r][c] = True\n",
        "        if r == R - 1:\n",
        "            ans = max(ans, d)\n",
        "        for (y, yd) in E[v]:\n",
        "            dfs(y, d + yd)\n",
        "        SEEN[r][c] = False\n",
        "\n",
        "    dfs(start, 0)\n",
        "    return ans\n",
        "\n",
        "print(solve(True))\n",
        "print(solve(False))\n"
      ],
      "metadata": {
        "colab": {
          "base_uri": "https://localhost:8080/"
        },
        "id": "NIVZgeqr27iU",
        "outputId": "c87b0c17-5be6-40cd-e907-21525ca8ba03"
      },
      "execution_count": 1,
      "outputs": [
        {
          "output_type": "stream",
          "name": "stdout",
          "text": [
            "2394\n",
            "6554\n"
          ]
        }
      ]
    }
  ]
}