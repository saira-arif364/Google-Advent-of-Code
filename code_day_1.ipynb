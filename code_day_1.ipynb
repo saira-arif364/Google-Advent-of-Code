{
  "nbformat": 4,
  "nbformat_minor": 0,
  "metadata": {
    "colab": {
      "provenance": []
    },
    "kernelspec": {
      "name": "python3",
      "display_name": "Python 3"
    },
    "language_info": {
      "name": "python"
    }
  },
  "cells": [
    {
      "cell_type": "code",
      "source": [
        "# Open the file named \"data.txt\" for reading\n",
        "with open(\"/content/data1google.txt\", 'r') as file:\n",
        "    D = file.read().strip()\n",
        "\n",
        "p1 = 0\n",
        "p2 = 0\n",
        "\n",
        "for line in D.split('\\n'):\n",
        "    p1_digits = []\n",
        "    p2_digits = []\n",
        "\n",
        "    for i, c in enumerate(line):\n",
        "        if c.isdigit():\n",
        "            p1_digits.append(c)\n",
        "            p2_digits.append(c)\n",
        "\n",
        "        for d, val in enumerate(['one', 'two', 'three', 'four', 'five', 'six', 'seven', 'eight', 'nine']):\n",
        "            if line[i:].startswith(val):\n",
        "                p2_digits.append(str(d + 1))\n",
        "\n",
        "    p1 += int(p1_digits[0] + p1_digits[-1])\n",
        "    p2 += int(p2_digits[0] + p2_digits[-1])\n",
        "\n",
        "print(\"Part 1:\", p1)\n",
        "print(\"Part 2:\", p2)\n"
      ],
      "metadata": {
        "colab": {
          "base_uri": "https://localhost:8080/"
        },
        "id": "078RPAcAc3yi",
        "outputId": "d2a558be-4624-418e-f849-7769b2e56c94"
      },
      "execution_count": 13,
      "outputs": [
        {
          "output_type": "stream",
          "name": "stdout",
          "text": [
            "Part 1: 52974\n",
            "Part 2: 53340\n"
          ]
        }
      ]
    }
  ]
}