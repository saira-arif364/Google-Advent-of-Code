{
  "nbformat": 4,
  "nbformat_minor": 0,
  "metadata": {
    "colab": {
      "provenance": []
    },
    "kernelspec": {
      "name": "python3",
      "display_name": "Python 3"
    },
    "language_info": {
      "name": "python"
    }
  },
  "cells": [
    {
      "cell_type": "code",
      "source": [
        "# Part 1\n",
        "\n",
        "points = [(0, 0)]\n",
        "dirs = {\"U\": (-1, 0), \"D\": (1, 0), \"L\": (0, -1), \"R\": (0, 1)}\n",
        "\n",
        "b = 0\n",
        "\n",
        "with open('/content/input 18.txt', 'r') as file:\n",
        "    for line in file:\n",
        "        d, n, _ = line.split()\n",
        "        dr, dc = dirs[d]\n",
        "        n = int(n)\n",
        "        b += n\n",
        "        r, c = points[-1]\n",
        "        points.append((r + dr * n, c + dc * n))\n",
        "\n",
        "A = abs(sum(points[i][0] * (points[i - 1][1] - points[(i + 1) % len(points)][1]) for i in range(len(points)))) // 2\n",
        "i = A - b // 2 + 1\n",
        "\n",
        "print(i + b)\n"
      ],
      "metadata": {
        "colab": {
          "base_uri": "https://localhost:8080/"
        },
        "id": "MYaJ4meNUmBn",
        "outputId": "aef1a32a-e1e5-4fee-b6d4-3122d101233f"
      },
      "execution_count": 1,
      "outputs": [
        {
          "output_type": "stream",
          "name": "stdout",
          "text": [
            "48503\n"
          ]
        }
      ]
    },
    {
      "cell_type": "code",
      "source": [
        "# Part 2\n",
        "points = [(0, 0)]\n",
        "dirs = {\"U\": (-1, 0), \"D\": (1, 0), \"L\": (0, -1), \"R\": (0, 1)}\n",
        "\n",
        "b = 0\n",
        "\n",
        "with open('/content/input 18.txt') as file:\n",
        "    for line in file:\n",
        "        _, _, x = line.split()\n",
        "        x = x[2:-1]\n",
        "        dr, dc = dirs[\"RDLU\"[int(x[-1])]]\n",
        "        n = int(x[:-1], 16)\n",
        "        b += n\n",
        "        r, c = points[-1]\n",
        "        points.append((r + dr * n, c + dc * n))\n",
        "\n",
        "A = abs(sum(points[i][0] * (points[i - 1][1] - points[(i + 1) % len(points)][1]) for i in range(len(points)))) // 2\n",
        "i = A - b // 2 + 1\n",
        "\n",
        "print(i + b)\n"
      ],
      "metadata": {
        "colab": {
          "base_uri": "https://localhost:8080/"
        },
        "id": "JhJgZHixUpvw",
        "outputId": "372e0700-0bac-4916-918e-1289181a7f59"
      },
      "execution_count": 2,
      "outputs": [
        {
          "output_type": "stream",
          "name": "stdout",
          "text": [
            "148442153147147\n"
          ]
        }
      ]
    }
  ]
}