{
  "nbformat": 4,
  "nbformat_minor": 0,
  "metadata": {
    "colab": {
      "provenance": []
    },
    "kernelspec": {
      "name": "python3",
      "display_name": "Python 3"
    },
    "language_info": {
      "name": "python"
    }
  },
  "cells": [
    {
      "cell_type": "code",
      "source": [
        "with open(\"/content/input 19.txt\") as f:\n",
        "    block1, block2 = f.read().split(\"\\n\\n\")\n",
        "\n",
        "workflows = {}\n",
        "\n",
        "for line in block1.splitlines():\n",
        "    name, rest = line[:-1].split(\"{\")\n",
        "    rules = rest.split(\",\")\n",
        "    workflows[name] = ([], rules.pop())\n",
        "    for rule in rules:\n",
        "        comparison, target = rule.split(\":\")\n",
        "        key = comparison[0]\n",
        "        cmp = comparison[1]\n",
        "        n = int(comparison[2:])\n",
        "        workflows[name][0].append((key, cmp, n, target))\n",
        "\n",
        "ops = {\n",
        "    \">\": int.__gt__,\n",
        "    \"<\": int.__lt__\n",
        "}\n",
        "\n",
        "def accept(item, name=\"in\"):\n",
        "    if name == \"R\":\n",
        "        return False\n",
        "    if name == \"A\":\n",
        "        return True\n",
        "\n",
        "    rules, fallback = workflows[name]\n",
        "\n",
        "    for key, cmp, n, target in rules:\n",
        "        if ops[cmp](item[key], n):\n",
        "            return accept(item, target)\n",
        "\n",
        "    return accept(item, fallback)\n",
        "\n",
        "total = 0\n",
        "\n",
        "for line in block2.splitlines():\n",
        "    item = {}\n",
        "    for segment in line[1:-1].split(\",\"):\n",
        "        ch, n = segment.split(\"=\")\n",
        "        item[ch] = int(n)\n",
        "    if accept(item):\n",
        "        total += sum(item.values())\n",
        "\n",
        "print(total)\n"
      ],
      "metadata": {
        "colab": {
          "base_uri": "https://localhost:8080/"
        },
        "id": "TzJU9hNWEmQe",
        "outputId": "dc02ef77-e540-453d-fdab-5b96768e4d3c"
      },
      "execution_count": 1,
      "outputs": [
        {
          "output_type": "stream",
          "name": "stdout",
          "text": [
            "263678\n"
          ]
        }
      ]
    },
    {
      "cell_type": "code",
      "source": [
        "# part 2\n",
        "with open(\"/content/input 19.txt\") as f:\n",
        "    block1, _ = f.read().split(\"\\n\\n\")\n",
        "\n",
        "workflows = {}\n",
        "\n",
        "for line in block1.splitlines():\n",
        "    name, rest = line[:-1].split(\"{\")\n",
        "    rules = rest.split(\",\")\n",
        "    workflows[name] = ([], rules.pop())\n",
        "    for rule in rules:\n",
        "        comparison, target = rule.split(\":\")\n",
        "        key = comparison[0]\n",
        "        cmp = comparison[1]\n",
        "        n = int(comparison[2:])\n",
        "        workflows[name][0].append((key, cmp, n, target))\n",
        "\n",
        "def count(ranges, name=\"in\"):\n",
        "    if name == \"R\":\n",
        "        return 0\n",
        "    if name == \"A\":\n",
        "        product = 1\n",
        "        for lo, hi in ranges.values():\n",
        "            product *= hi - lo + 1\n",
        "        return product\n",
        "\n",
        "    rules, fallback = workflows[name]\n",
        "\n",
        "    total = 0\n",
        "\n",
        "    for key, cmp, n, target in rules:\n",
        "        lo, hi = ranges[key]\n",
        "        if cmp == \"<\":\n",
        "            T = (lo, n - 1)\n",
        "            F = (n, hi)\n",
        "        else:\n",
        "            T = (n + 1, hi)\n",
        "            F = (lo, n)\n",
        "        if T[0] <= T[1]:\n",
        "            copy = dict(ranges)\n",
        "            copy[key] = T\n",
        "            total += count(copy, target)\n",
        "        if F[0] <= F[1]:\n",
        "            ranges = dict(ranges)\n",
        "            ranges[key] = F\n",
        "        else:\n",
        "            break\n",
        "    else:\n",
        "        total += count(ranges, fallback)\n",
        "\n",
        "    return total\n",
        "\n",
        "print(count({key: (1, 4000) for key in \"xmas\"}))\n"
      ],
      "metadata": {
        "colab": {
          "base_uri": "https://localhost:8080/"
        },
        "id": "95b26FShFG6a",
        "outputId": "c7a79799-609a-46e1-ec83-3152244d114e"
      },
      "execution_count": 3,
      "outputs": [
        {
          "output_type": "stream",
          "name": "stdout",
          "text": [
            "125455345557345\n"
          ]
        }
      ]
    }
  ]
}