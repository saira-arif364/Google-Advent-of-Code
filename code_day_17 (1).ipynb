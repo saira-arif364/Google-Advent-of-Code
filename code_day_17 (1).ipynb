{
  "nbformat": 4,
  "nbformat_minor": 0,
  "metadata": {
    "colab": {
      "provenance": []
    },
    "kernelspec": {
      "name": "python3",
      "display_name": "Python 3"
    },
    "language_info": {
      "name": "python"
    }
  },
  "cells": [
    {
      "cell_type": "code",
      "source": [
        "from heapq import heappush, heappop\n",
        "\n",
        "grid = [list(map(int, line.strip())) for line in open(0)]\n",
        "\n",
        "seen = set()\n",
        "pq = [(0, 0, 0, 0, 0, 0)]\n",
        "\n",
        "while pq:\n",
        "    hl, r, c, dr, dc, n = heappop(pq)\n",
        "\n",
        "    if r == len(grid) - 1 and c == len(grid[0]) - 1:\n",
        "        print(hl)\n",
        "        break\n",
        "\n",
        "    if (r, c, dr, dc, n) in seen:\n",
        "        continue\n",
        "\n",
        "    seen.add((r, c, dr, dc, n))\n",
        "\n",
        "    if n < 3 and (dr, dc) != (0, 0):\n",
        "        nr = r + dr\n",
        "        nc = c + dc\n",
        "        if 0 <= nr < len(grid) and 0 <= nc < len(grid[0]):\n",
        "            heappush(pq, (hl + grid[nr][nc], nr, nc, dr, dc, n + 1))\n",
        "\n",
        "    for ndr, ndc in [(0, 1), (1, 0), (0, -1), (-1, 0)]:\n",
        "        if (ndr, ndc) != (dr, dc) and (ndr, ndc) != (-dr, -dc):\n",
        "            nr = r + ndr\n",
        "            nc = c + ndc\n",
        "            if 0 <= nr < len(grid) and 0 <= nc < len(grid[0]):\n",
        "                heappush(pq, (hl + grid[nr][nc], nr, nc, ndr, ndc, 1))"
      ],
      "metadata": {
        "id": "w0J639hTFv2Y"
      },
      "execution_count": null,
      "outputs": []
    },
    {
      "cell_type": "code",
      "source": [
        "# part 2\n",
        "from heapq import heappush, heappop\n",
        "\n",
        "grid = [list(map(int, line.strip())) for line in open(0)]\n",
        "\n",
        "seen = set()\n",
        "pq = [(0, 0, 0, 0, 0, 0)]\n",
        "\n",
        "while pq:\n",
        "    hl, r, c, dr, dc, n = heappop(pq)\n",
        "\n",
        "    if r == len(grid) - 1 and c == len(grid[0]) - 1 and n >= 4:\n",
        "        print(hl)\n",
        "        break\n",
        "\n",
        "    if (r, c, dr, dc, n) in seen:\n",
        "        continue\n",
        "\n",
        "    seen.add((r, c, dr, dc, n))\n",
        "\n",
        "    if n < 10 and (dr, dc) != (0, 0):\n",
        "        nr = r + dr\n",
        "        nc = c + dc\n",
        "        if 0 <= nr < len(grid) and 0 <= nc < len(grid[0]):\n",
        "            heappush(pq, (hl + grid[nr][nc], nr, nc, dr, dc, n + 1))\n",
        "\n",
        "    if n >= 4 or (dr, dc) == (0, 0):\n",
        "        for ndr, ndc in [(0, 1), (1, 0), (0, -1), (-1, 0)]:\n",
        "            if (ndr, ndc) != (dr, dc) and (ndr, ndc) != (-dr, -dc):\n",
        "                nr = r + ndr\n",
        "                nc = c + ndc\n",
        "                if 0 <= nr < len(grid) and 0 <= nc < len(grid[0]):\n",
        "                    heappush(pq, (hl + grid[nr][nc], nr, nc, ndr, ndc, 1))"
      ],
      "metadata": {
        "id": "sVofRRgXFwoM"
      },
      "execution_count": null,
      "outputs": []
    }
  ]
}