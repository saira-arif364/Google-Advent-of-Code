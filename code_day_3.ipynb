{
  "nbformat": 4,
  "nbformat_minor": 0,
  "metadata": {
    "colab": {
      "provenance": []
    },
    "kernelspec": {
      "name": "python3",
      "display_name": "Python 3"
    },
    "language_info": {
      "name": "python"
    }
  },
  "cells": [
    {
      "cell_type": "code",
      "source": [
        "import re\n",
        "from collections import defaultdict\n",
        "\n",
        "# Provide the file path directly\n",
        "file_path = \"/content/input3.txt\"\n",
        "\n",
        "# Read the content of the specified file\n",
        "with open(file_path, 'r') as file:\n",
        "    D = file.read().strip()\n",
        "\n",
        "lines = D.split('\\n')\n",
        "G = [[c for c in line] for line in lines]\n",
        "R = len(G)\n",
        "C = len(G[0])\n",
        "\n",
        "p1 = 0\n",
        "nums = defaultdict(list)\n",
        "\n",
        "for r in range(len(G)):\n",
        "    gears = set()  # positions of '*' characters next to the current number\n",
        "    n = 0\n",
        "    has_part = False\n",
        "\n",
        "    for c in range(len(G[r]) + 1):\n",
        "        if c < C and G[r][c].isdigit():\n",
        "            n = n * 10 + int(G[r][c])\n",
        "\n",
        "            for rr in [-1, 0, 1]:\n",
        "                for cc in [-1, 0, 1]:\n",
        "                    if 0 <= r + rr < R and 0 <= c + cc < C:\n",
        "                        ch = G[r + rr][c + cc]\n",
        "                        if not ch.isdigit() and ch != '.':\n",
        "                            has_part = True\n",
        "                        if ch == '*':\n",
        "                            gears.add((r + rr, c + cc))\n",
        "        elif n > 0:\n",
        "            for gear in gears:\n",
        "                nums[gear].append(n)\n",
        "            if has_part:\n",
        "                p1 += n\n",
        "            n = 0\n",
        "            has_part = False\n",
        "            gears = set()\n",
        "\n",
        "print(\"Part 1:\", p1)\n",
        "p2 = 0\n",
        "\n",
        "for k, v in nums.items():\n",
        "    if len(v) == 2:\n",
        "        p2 += v[0] * v[1]\n",
        "\n",
        "print(\"Part 2:\", p2)\n"
      ],
      "metadata": {
        "colab": {
          "base_uri": "https://localhost:8080/"
        },
        "id": "-JAqdqVZTq2n",
        "outputId": "f44b1f5b-819f-4711-c331-a21aa523f701"
      },
      "execution_count": 4,
      "outputs": [
        {
          "output_type": "stream",
          "name": "stdout",
          "text": [
            "Part 1: 521515\n",
            "Part 2: 69527306\n"
          ]
        }
      ]
    }
  ]
}