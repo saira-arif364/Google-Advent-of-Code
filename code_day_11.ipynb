{
  "nbformat": 4,
  "nbformat_minor": 0,
  "metadata": {
    "colab": {
      "provenance": []
    },
    "kernelspec": {
      "name": "python3",
      "display_name": "Python 3"
    },
    "language_info": {
      "name": "python"
    }
  },
  "cells": [
    {
      "cell_type": "code",
      "source": [
        "import sys\n",
        "import re\n",
        "from copy import deepcopy\n",
        "from math import gcd\n",
        "from collections import defaultdict, Counter, deque\n",
        "\n",
        "# Read data from the file\n",
        "with open(\"/content/input 11.txt\", 'r') as file:\n",
        "    D = file.read().strip()\n",
        "\n",
        "L = D.split('\\n')\n",
        "G = [[c for c in row] for row in L]\n",
        "R = len(G)\n",
        "C = len(G[0])\n",
        "\n",
        "# Rest of the code remains unchanged\n",
        "for r in range(R):\n",
        "    assert len(G[r]) == C\n",
        "\n",
        "EMPTY_R = []\n",
        "r = 0\n",
        "while r < R:\n",
        "    empty = True\n",
        "    for c in range(C):\n",
        "        if G[r][c] == '#':\n",
        "            empty = False\n",
        "    if empty:\n",
        "        EMPTY_R.append(r)\n",
        "    r += 1\n",
        "\n",
        "EMPTY_C = []\n",
        "c = 0\n",
        "while c < C:\n",
        "    empty = True\n",
        "    for r in range(R):\n",
        "        if G[r][c] == '#':\n",
        "            empty = False\n",
        "    if empty:\n",
        "        EMPTY_C.append(c)\n",
        "    c += 1\n",
        "\n",
        "GAL = []\n",
        "for r in range(R):\n",
        "    for c in range(C):\n",
        "        if G[r][c] == '#':\n",
        "            GAL.append((r, c))\n",
        "\n",
        "for part2 in [False, True]:\n",
        "    expansion_factor = 10**6-1 if part2 else 2-1\n",
        "    ans = 0\n",
        "    for i, (r, c) in enumerate(GAL):\n",
        "        for j in range(i, len(GAL)):\n",
        "            r2, c2 = GAL[j]\n",
        "            dij = abs(r2-r) + abs(c2-c)\n",
        "            for er in EMPTY_R:\n",
        "                if min(r, r2) <= er <= max(r, r2):\n",
        "                    dij += expansion_factor\n",
        "            for ec in EMPTY_C:\n",
        "                if min(c, c2) <= ec <= max(c, c2):\n",
        "                    dij += expansion_factor\n",
        "            ans += dij\n",
        "    print(ans)\n"
      ],
      "metadata": {
        "colab": {
          "base_uri": "https://localhost:8080/"
        },
        "id": "6cXZqNtzjnKL",
        "outputId": "0064dc7f-4bf3-43ad-e755-ed086d2d88c6"
      },
      "execution_count": 1,
      "outputs": [
        {
          "output_type": "stream",
          "name": "stdout",
          "text": [
            "10422930\n",
            "699909023130\n"
          ]
        }
      ]
    }
  ]
}