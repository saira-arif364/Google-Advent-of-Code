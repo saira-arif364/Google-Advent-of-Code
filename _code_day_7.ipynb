{
  "nbformat": 4,
  "nbformat_minor": 0,
  "metadata": {
    "colab": {
      "provenance": []
    },
    "kernelspec": {
      "name": "python3",
      "display_name": "Python 3"
    },
    "language_info": {
      "name": "python"
    }
  },
  "cells": [
    {
      "cell_type": "code",
      "source": [
        "from collections import defaultdict, Counter\n",
        "\n",
        "file_path = \"/content/input 7.txt\"\n",
        "\n",
        "with open(file_path, 'r') as file:\n",
        "    D = file.read().strip()\n",
        "\n",
        "L = D.split('\\n')\n",
        "\n",
        "def strength(hand, part2):\n",
        "    hand = hand.replace('T', chr(ord('9') + 1))\n",
        "    hand = hand.replace('J', chr(ord('2') - 1) if part2 else chr(ord('9') + 2))\n",
        "    hand = hand.replace('Q', chr(ord('9') + 3))\n",
        "    hand = hand.replace('K', chr(ord('9') + 4))\n",
        "    hand = hand.replace('A', chr(ord('9') + 5))\n",
        "\n",
        "    C = Counter(hand)\n",
        "    if part2:\n",
        "        target = list(C.keys())[0]\n",
        "        for k in C:\n",
        "            if k != '1':\n",
        "                if C[k] > C[target] or target == '1':\n",
        "                    target = k\n",
        "        assert target != '1' or list(C.keys()) == ['1']\n",
        "        if '1' in C and target != '1':\n",
        "            C[target] += C['1']\n",
        "            del C['1']\n",
        "        assert '1' not in C or list(C.keys()) == ['1'], f'{C} {hand}'\n",
        "\n",
        "    if sorted(C.values()) == [5]:\n",
        "        return (10, hand)\n",
        "    elif sorted(C.values()) == [1, 4]:\n",
        "        return (9, hand)\n",
        "    elif sorted(C.values()) == [2, 3]:\n",
        "        return (8, hand)\n",
        "    elif sorted(C.values()) == [1, 1, 3]:\n",
        "        return (7, hand)\n",
        "    elif sorted(C.values()) == [1, 2, 2]:\n",
        "        return (6, hand)\n",
        "    elif sorted(C.values()) == [1, 1, 1, 2]:\n",
        "        return (5, hand)\n",
        "    elif sorted(C.values()) == [1, 1, 1, 1, 1]:\n",
        "        return (4, hand)\n",
        "    else:\n",
        "        assert False, f'{C} {hand} {sorted(C.values())}'\n",
        "\n",
        "for part2 in [False, True]:\n",
        "    H = []\n",
        "    for line in L:\n",
        "        hand, bid = line.split()\n",
        "        H.append((hand, bid))\n",
        "    H = sorted(H, key=lambda hb: strength(hb[0], part2))\n",
        "    ans = 0\n",
        "    for i, (h, b) in enumerate(H):\n",
        "        # print(i,h,b)\n",
        "        ans += (i + 1) * int(b)\n",
        "    print(ans)\n"
      ],
      "metadata": {
        "colab": {
          "base_uri": "https://localhost:8080/"
        },
        "id": "CGF0A9pEG3DO",
        "outputId": "969d680a-4685-4e03-a054-eaa1d7e528d2"
      },
      "execution_count": 1,
      "outputs": [
        {
          "output_type": "stream",
          "name": "stdout",
          "text": [
            "247815719\n",
            "248747492\n"
          ]
        }
      ]
    }
  ]
}