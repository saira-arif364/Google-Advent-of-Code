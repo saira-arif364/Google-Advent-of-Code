{
  "nbformat": 4,
  "nbformat_minor": 0,
  "metadata": {
    "colab": {
      "provenance": []
    },
    "kernelspec": {
      "name": "python3",
      "display_name": "Python 3"
    },
    "language_info": {
      "name": "python"
    }
  },
  "cells": [
    {
      "cell_type": "code",
      "source": [
        "from collections import defaultdict\n",
        "\n",
        "# Provide the file path directly\n",
        "file_path = '/content/input2.txt'\n",
        "\n",
        "# Read the content of the specified file\n",
        "with open(file_path, 'r') as file:\n",
        "    D = file.read().strip()\n",
        "\n",
        "p1 = 0\n",
        "p2 = 0\n",
        "\n",
        "for line in D.split('\\n'):\n",
        "    ok = True\n",
        "    id_, line = line.split(':')\n",
        "    V = defaultdict(int)\n",
        "\n",
        "    for event in line.split(';'):\n",
        "        for balls in event.split(','):\n",
        "            n, color = balls.split()\n",
        "            n = int(n)\n",
        "            V[color] = max(V[color], n)\n",
        "\n",
        "            if int(n) > {'red': 12, 'green': 13, 'blue': 14}.get(color, 0):\n",
        "                ok = False\n",
        "\n",
        "    score = 1\n",
        "    for v in V.values():\n",
        "        score *= v\n",
        "\n",
        "    p2 += score\n",
        "    if ok:\n",
        "        p1 += int(id_.split()[-1])\n",
        "\n",
        "print(\"Part 1:\", p1)\n",
        "print(\"Part 2:\", p2)\n"
      ],
      "metadata": {
        "colab": {
          "base_uri": "https://localhost:8080/"
        },
        "id": "eD0-tllfkWVU",
        "outputId": "f3629210-9343-4955-f7ab-93e0f1acdb7d"
      },
      "execution_count": 15,
      "outputs": [
        {
          "output_type": "stream",
          "name": "stdout",
          "text": [
            "Part 1: 2416\n",
            "Part 2: 63307\n"
          ]
        }
      ]
    }
  ]
}