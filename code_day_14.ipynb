{
  "nbformat": 4,
  "nbformat_minor": 0,
  "metadata": {
    "colab": {
      "provenance": []
    },
    "kernelspec": {
      "name": "python3",
      "display_name": "Python 3"
    },
    "language_info": {
      "name": "python"
    }
  },
  "cells": [
    {
      "cell_type": "code",
      "source": [
        "import sys\n",
        "import re\n",
        "from copy import deepcopy\n",
        "from math import gcd\n",
        "from collections import defaultdict, Counter, deque\n",
        "\n",
        "# Read input file\n",
        "D = open('/content/input 14.txt').read().strip()\n",
        "\n",
        "L = D.split('\\n')\n",
        "G = [[c for c in row] for row in L]\n",
        "\n",
        "def rotate(G):\n",
        "    R = len(G)\n",
        "    C = len(G[0])\n",
        "    NG = [['?' for _ in range(R)] for _ in range(C)]\n",
        "    for r in range(R):\n",
        "        for c in range(C):\n",
        "            NG[c][R-1-r] = G[r][c]\n",
        "    return NG\n",
        "\n",
        "def roll(G):\n",
        "    R = len(G)\n",
        "    C = len(G[0])\n",
        "    for c in range(C):\n",
        "        for _ in range(R):\n",
        "            for r in range(R):\n",
        "                if G[r][c] == 'O' and r > 0 and G[r-1][c] == '.':\n",
        "                    G[r][c] = '.'\n",
        "                    G[r-1][c] = 'O'\n",
        "    return G\n",
        "\n",
        "def score(G):\n",
        "    ans = 0\n",
        "    R = len(G)\n",
        "    C = len(G[0])\n",
        "    for r in range(R):\n",
        "        for c in range(C):\n",
        "            if G[r][c] == 'O':\n",
        "                ans += len(G) - r\n",
        "    return ans\n",
        "\n",
        "def show(G):\n",
        "    for r in range(len(G)):\n",
        "        print(''.join(G[r]))\n",
        "\n",
        "BY_GRID = {}\n",
        "\n",
        "target = 10**9\n",
        "t = 0\n",
        "while t < target:\n",
        "    t += 1\n",
        "    for j in range(4):\n",
        "        G = roll(G)\n",
        "        if t == 1 and j == 0:\n",
        "            print(score(G))  # part1\n",
        "        G = rotate(G)\n",
        "\n",
        "    Gh = tuple(tuple(row) for row in G)\n",
        "    if Gh in BY_GRID:\n",
        "        cycle_length = t - BY_GRID[Gh]\n",
        "        amt = (target - t) // cycle_length\n",
        "        t += amt * cycle_length\n",
        "    BY_GRID[Gh] = t\n",
        "\n",
        "print(score(G))\n"
      ],
      "metadata": {
        "colab": {
          "base_uri": "https://localhost:8080/"
        },
        "id": "7sSptLW4kQNu",
        "outputId": "a769c2c6-3f9e-4ad2-b20d-a0993fcd8389"
      },
      "execution_count": 13,
      "outputs": [
        {
          "output_type": "stream",
          "name": "stdout",
          "text": [
            "107053\n",
            "88371\n"
          ]
        }
      ]
    }
  ]
}