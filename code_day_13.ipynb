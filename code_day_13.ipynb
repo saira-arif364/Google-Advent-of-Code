{
  "nbformat": 4,
  "nbformat_minor": 0,
  "metadata": {
    "colab": {
      "provenance": []
    },
    "kernelspec": {
      "name": "python3",
      "display_name": "Python 3"
    },
    "language_info": {
      "name": "python"
    }
  },
  "cells": [
    {
      "cell_type": "code",
      "source": [
        "import sys\n",
        "import re\n",
        "from copy import deepcopy\n",
        "from math import gcd\n",
        "from collections import defaultdict, Counter, deque\n",
        "\n",
        "with open(\"/content/input 13.txt\") as file:\n",
        "    D = file.read().strip()\n",
        "\n",
        "for part2 in [False, True]:\n",
        "    ans = 0\n",
        "    for grid in D.split('\\n\\n'):\n",
        "        G = [[c for c in row] for row in grid.split('\\n')]\n",
        "        R = len(G)\n",
        "        C = len(G[0])\n",
        "        # vertical symmetry\n",
        "        for c in range(C-1):\n",
        "            badness = 0\n",
        "            for dc in range(C):\n",
        "                left = c-dc\n",
        "                right = c+1+dc\n",
        "                if 0 <= left < right < C:\n",
        "                    for r in range(R):\n",
        "                        if G[r][left] != G[r][right]:\n",
        "                            badness += 1\n",
        "            if badness == (1 if part2 else 0):\n",
        "                ans += c+1\n",
        "        for r in range(R-1):\n",
        "            badness = 0\n",
        "            for dr in range(R):\n",
        "                up = r-dr\n",
        "                down = r+1+dr\n",
        "                if 0 <= up < down < R:\n",
        "                    for c in range(C):\n",
        "                        if G[up][c] != G[down][c]:\n",
        "                            badness += 1\n",
        "            if badness == (1 if part2 else 0):\n",
        "                ans += 100*(r+1)\n",
        "    print(ans)\n"
      ],
      "metadata": {
        "colab": {
          "base_uri": "https://localhost:8080/"
        },
        "id": "tt5u79izsMC5",
        "outputId": "e2422ef3-17e0-4974-dd29-f2b7beb29bd8"
      },
      "execution_count": 1,
      "outputs": [
        {
          "output_type": "stream",
          "name": "stdout",
          "text": [
            "34772\n",
            "35554\n"
          ]
        }
      ]
    }
  ]
}