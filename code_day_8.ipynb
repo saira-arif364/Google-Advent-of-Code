{
  "nbformat": 4,
  "nbformat_minor": 0,
  "metadata": {
    "colab": {
      "provenance": []
    },
    "kernelspec": {
      "name": "python3",
      "display_name": "Python 3"
    },
    "language_info": {
      "name": "python"
    }
  },
  "cells": [
    {
      "cell_type": "code",
      "source": [
        "from math import gcd\n",
        "from collections import defaultdict\n",
        "\n",
        "def lcm(xs):\n",
        "  ans = 1\n",
        "  for x in xs:\n",
        "    ans = (x * ans) // gcd(x, ans)\n",
        "  return ans\n",
        "\n",
        "def read_data(file_path):\n",
        "    with open(file_path, 'r') as file:\n",
        "        data = file.read().strip().split('\\n')\n",
        "    return data\n",
        "\n",
        "data_file = \"/content/input 8.txt\"  # Replace with your file path\n",
        "L = read_data(data_file)\n",
        "\n",
        "GO = {'L': {}, 'R': {}}\n",
        "steps, rule = L[0], \"\\n\".join(L[1:])  # Combine the lines to handle possible empty lines\n",
        "for line in rule.split('\\n'):\n",
        "    if '=' in line:\n",
        "        st, lr = line.split('=')\n",
        "        st = st.strip()\n",
        "        left, right = lr.split(',')\n",
        "        left = left.strip()[1:].strip()\n",
        "        right = right[:-1].strip()\n",
        "        GO['L'][st] = left\n",
        "        GO['R'][st] = right\n",
        "\n",
        "def solve(part2):\n",
        "    POS = []\n",
        "    for s in GO['L']:\n",
        "        if s.endswith('A' if part2 else 'AAA'):\n",
        "            POS.append(s)\n",
        "    T = {}\n",
        "    t = 0\n",
        "    while True:\n",
        "        NP = []\n",
        "        for i, p in enumerate(POS):\n",
        "            p = GO[steps[t % len(steps)]][p]\n",
        "            if p.endswith('Z'):\n",
        "                T[i] = t + 1\n",
        "                if len(T) == len(POS):\n",
        "                    return lcm(T.values())\n",
        "            NP.append(p)\n",
        "        POS = NP\n",
        "        t += 1\n",
        "\n",
        "print(solve(False))\n",
        "print(solve(True))\n"
      ],
      "metadata": {
        "colab": {
          "base_uri": "https://localhost:8080/"
        },
        "id": "UfnbqJaB9Sc-",
        "outputId": "3a701de3-8f5b-4b08-a846-835047a617e5"
      },
      "execution_count": 2,
      "outputs": [
        {
          "output_type": "stream",
          "name": "stdout",
          "text": [
            "18727\n",
            "18024643846273\n"
          ]
        }
      ]
    }
  ]
}