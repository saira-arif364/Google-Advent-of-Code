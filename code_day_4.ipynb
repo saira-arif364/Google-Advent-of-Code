{
  "nbformat": 4,
  "nbformat_minor": 0,
  "metadata": {
    "colab": {
      "provenance": []
    },
    "kernelspec": {
      "name": "python3",
      "display_name": "Python 3"
    },
    "language_info": {
      "name": "python"
    }
  },
  "cells": [
    {
      "cell_type": "code",
      "source": [
        "import re\n",
        "from collections import defaultdict\n",
        "\n",
        "# Provide the file path directly\n",
        "file_path = \"/content/input 4.txt\"\n",
        "\n",
        "# Read the content of the specified file\n",
        "with open(file_path, 'r') as file:\n",
        "    D = file.read().strip()\n",
        "\n",
        "lines = D.split('\\n')\n",
        "p1 = 0\n",
        "N = defaultdict(int)\n",
        "\n",
        "for i, line in enumerate(lines):\n",
        "    N[i] += 1\n",
        "    first, rest = line.split('|')\n",
        "    id_, card = first.split(':')\n",
        "    card_nums = [int(x) for x in card.split()]\n",
        "    rest_nums = [int(x) for x in rest.split()]\n",
        "    val = len(set(card_nums) & set(rest_nums))\n",
        "\n",
        "    if val > 0:\n",
        "        p1 += 2**(val-1)\n",
        "\n",
        "    for j in range(val):\n",
        "        N[i+1+j] += N[i]\n",
        "\n",
        "print(\"Part 1:\", p1)\n",
        "print(\"Part 2:\", sum(N.values()))\n"
      ],
      "metadata": {
        "colab": {
          "base_uri": "https://localhost:8080/"
        },
        "id": "LnL8aqf6oXp7",
        "outputId": "6a6d593b-6a67-4246-f91f-fbad996afc2e"
      },
      "execution_count": 3,
      "outputs": [
        {
          "output_type": "stream",
          "name": "stdout",
          "text": [
            "Part 1: 21821\n",
            "Part 2: 5539496\n"
          ]
        }
      ]
    }
  ]
}