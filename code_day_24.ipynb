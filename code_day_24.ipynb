{
  "nbformat": 4,
  "nbformat_minor": 0,
  "metadata": {
    "colab": {
      "provenance": []
    },
    "kernelspec": {
      "name": "python3",
      "display_name": "Python 3"
    },
    "language_info": {
      "name": "python"
    }
  },
  "cells": [
    {
      "cell_type": "code",
      "source": [
        "import sys\n",
        "from copy import deepcopy\n",
        "from math import gcd\n",
        "from collections import defaultdict, Counter, deque\n",
        "import heapq\n",
        "import math\n",
        "from z3 import *\n",
        "\n",
        "def read_data(file_path):\n",
        "    with open(file_path, 'r') as file:\n",
        "        D = file.read().strip()\n",
        "    L = D.split('\\n')\n",
        "    G = [[c for c in row] for row in L]\n",
        "\n",
        "    S = []\n",
        "    for line in L:\n",
        "        pos, vel = line.split('@')\n",
        "        x, y, z = pos.split(', ')\n",
        "        vx, vy, vz = vel.split(', ')\n",
        "        x, y, z = int(x), int(y), int(z)\n",
        "        vx, vy, vz = int(vx), int(vy), int(vz)\n",
        "        S.append((x, y, z, vx, vy, vz))\n",
        "\n",
        "    return G, S\n",
        "\n",
        "file_path = '/content/input 24.txt'\n",
        "G, S = read_data(file_path)\n",
        "\n",
        "R = len(G)\n",
        "C = len(G[0])\n",
        "\n",
        "n = len(S)\n",
        "ans = 0\n",
        "for i in range(len(S)):\n",
        "    for j in range(i+1, len(S)):\n",
        "        x1 = S[i][0]\n",
        "        x2 = S[i][0] + S[i][3]\n",
        "        x3 = S[j][0]\n",
        "        x4 = S[j][0] + S[j][3]\n",
        "        y1 = S[i][1]\n",
        "        y2 = S[i][1] + S[i][4]\n",
        "        y3 = S[j][1]\n",
        "        y4 = S[j][1] + S[j][4]\n",
        "\n",
        "        den = ((x1 - x2) * (y3 - y4) - (y1 - y2) * (x3 - x4))\n",
        "        if den != 0:\n",
        "            px = ((x1 * y2 - y1 * x2) * (x3 - x4) - (x1 - x2) * (x3 * y4 - y3 * x4)) / (\n",
        "                    (x1 - x2) * (y3 - y4) - (y1 - y2) * (x3 - x4))\n",
        "            py = ((x1 * y2 - y1 * x2) * (y3 - y4) - (y1 - y2) * (x3 * y4 - y3 * x4)) / (\n",
        "                    (x1 - x2) * (y3 - y4) - (y1 - y2) * (x3 - x4))\n",
        "            validA = (px > x1) == (x2 > x1)\n",
        "            validB = (px > x3) == (x4 > x3)\n",
        "\n",
        "            if 200000000000000 <= px <= 400000000000000 and 200000000000000 <= py <= 400000000000000 and validA and validB:\n",
        "                ans += 1\n",
        "print(ans)\n",
        "\n",
        "x, y, z, vx, vy, vz = Int('x'), Int('y'), Int('z'), Int('vx'), Int('vy'), Int('vz')\n",
        "T = [Int(f'T{i}') for i in range(n)]\n",
        "SOLVE = Solver()\n",
        "for i in range(n):\n",
        "    SOLVE.add(x + T[i] * vx - S[i][0] - T[i] * S[i][3] == 0)\n",
        "    SOLVE.add(y + T[i] * vy - S[i][1] - T[i] * S[i][4] == 0)\n",
        "    SOLVE.add(z + T[i] * vz - S[i][2] - T[i] * S[i][5] == 0)\n",
        "res = SOLVE.check()\n",
        "M = SOLVE.model()\n",
        "print(M.eval(x + y + z))\n"
      ],
      "metadata": {
        "colab": {
          "base_uri": "https://localhost:8080/",
          "height": 383
        },
        "id": "WcNolNhjKmde",
        "outputId": "552138a8-04b6-41e6-a66c-59f8a1462adb"
      },
      "execution_count": 1,
      "outputs": [
        {
          "output_type": "error",
          "ename": "ModuleNotFoundError",
          "evalue": "ignored",
          "traceback": [
            "\u001b[0;31m---------------------------------------------------------------------------\u001b[0m",
            "\u001b[0;31mModuleNotFoundError\u001b[0m                       Traceback (most recent call last)",
            "\u001b[0;32m<ipython-input-1-7baf9e5a1d04>\u001b[0m in \u001b[0;36m<cell line: 7>\u001b[0;34m()\u001b[0m\n\u001b[1;32m      5\u001b[0m \u001b[0;32mimport\u001b[0m \u001b[0mheapq\u001b[0m\u001b[0;34m\u001b[0m\u001b[0;34m\u001b[0m\u001b[0m\n\u001b[1;32m      6\u001b[0m \u001b[0;32mimport\u001b[0m \u001b[0mmath\u001b[0m\u001b[0;34m\u001b[0m\u001b[0;34m\u001b[0m\u001b[0m\n\u001b[0;32m----> 7\u001b[0;31m \u001b[0;32mfrom\u001b[0m \u001b[0mz3\u001b[0m \u001b[0;32mimport\u001b[0m \u001b[0;34m*\u001b[0m\u001b[0;34m\u001b[0m\u001b[0;34m\u001b[0m\u001b[0m\n\u001b[0m\u001b[1;32m      8\u001b[0m \u001b[0;34m\u001b[0m\u001b[0m\n\u001b[1;32m      9\u001b[0m \u001b[0;32mdef\u001b[0m \u001b[0mread_data\u001b[0m\u001b[0;34m(\u001b[0m\u001b[0mfile_path\u001b[0m\u001b[0;34m)\u001b[0m\u001b[0;34m:\u001b[0m\u001b[0;34m\u001b[0m\u001b[0;34m\u001b[0m\u001b[0m\n",
            "\u001b[0;31mModuleNotFoundError\u001b[0m: No module named 'z3'",
            "",
            "\u001b[0;31m---------------------------------------------------------------------------\u001b[0;32m\nNOTE: If your import is failing due to a missing package, you can\nmanually install dependencies using either !pip or !apt.\n\nTo view examples of installing some common dependencies, click the\n\"Open Examples\" button below.\n\u001b[0;31m---------------------------------------------------------------------------\u001b[0m\n"
          ],
          "errorDetails": {
            "actions": [
              {
                "action": "open_url",
                "actionText": "Open Examples",
                "url": "/notebooks/snippets/importing_libraries.ipynb"
              }
            ]
          }
        }
      ]
    },
    {
      "cell_type": "code",
      "source": [
        "!pip install z3-solver\n"
      ],
      "metadata": {
        "colab": {
          "base_uri": "https://localhost:8080/"
        },
        "id": "uORBZ_CQLQah",
        "outputId": "1a0ba165-412e-4448-8136-fa6bf55a060b"
      },
      "execution_count": 2,
      "outputs": [
        {
          "output_type": "stream",
          "name": "stdout",
          "text": [
            "Collecting z3-solver\n",
            "  Downloading z3_solver-4.12.4.0-py2.py3-none-manylinux2014_x86_64.whl (56.7 MB)\n",
            "\u001b[2K     \u001b[90m━━━━━━━━━━━━━━━━━━━━━━━━━━━━━━━━━━━━━━━━\u001b[0m \u001b[32m56.7/56.7 MB\u001b[0m \u001b[31m10.3 MB/s\u001b[0m eta \u001b[36m0:00:00\u001b[0m\n",
            "\u001b[?25hInstalling collected packages: z3-solver\n",
            "Successfully installed z3-solver-4.12.4.0\n"
          ]
        }
      ]
    },
    {
      "cell_type": "code",
      "source": [
        "import sys\n",
        "from copy import deepcopy\n",
        "from math import gcd\n",
        "from collections import defaultdict, Counter, deque\n",
        "import heapq\n",
        "import math\n",
        "from z3 import *\n",
        "\n",
        "def read_data(file_path):\n",
        "    with open(file_path, 'r') as file:\n",
        "        D = file.read().strip()\n",
        "    L = D.split('\\n')\n",
        "    G = [[c for c in row] for row in L]\n",
        "\n",
        "    S = []\n",
        "    for line in L:\n",
        "        pos, vel = line.split('@')\n",
        "        x, y, z = pos.split(', ')\n",
        "        vx, vy, vz = vel.split(', ')\n",
        "        x, y, z = int(x), int(y), int(z)\n",
        "        vx, vy, vz = int(vx), int(vy), int(vz)\n",
        "        S.append((x, y, z, vx, vy, vz))\n",
        "\n",
        "    return G, S\n",
        "\n",
        "file_path = '/content/input 24.txt'\n",
        "G, S = read_data(file_path)\n",
        "\n",
        "R = len(G)\n",
        "C = len(G[0])\n",
        "\n",
        "n = len(S)\n",
        "ans = 0\n",
        "for i in range(len(S)):\n",
        "    for j in range(i+1, len(S)):\n",
        "        x1 = S[i][0]\n",
        "        x2 = S[i][0] + S[i][3]\n",
        "        x3 = S[j][0]\n",
        "        x4 = S[j][0] + S[j][3]\n",
        "        y1 = S[i][1]\n",
        "        y2 = S[i][1] + S[i][4]\n",
        "        y3 = S[j][1]\n",
        "        y4 = S[j][1] + S[j][4]\n",
        "\n",
        "        den = ((x1 - x2) * (y3 - y4) - (y1 - y2) * (x3 - x4))\n",
        "        if den != 0:\n",
        "            px = ((x1 * y2 - y1 * x2) * (x3 - x4) - (x1 - x2) * (x3 * y4 - y3 * x4)) / (\n",
        "                    (x1 - x2) * (y3 - y4) - (y1 - y2) * (x3 - x4))\n",
        "            py = ((x1 * y2 - y1 * x2) * (y3 - y4) - (y1 - y2) * (x3 * y4 - y3 * x4)) / (\n",
        "                    (x1 - x2) * (y3 - y4) - (y1 - y2) * (x3 - x4))\n",
        "            validA = (px > x1) == (x2 > x1)\n",
        "            validB = (px > x3) == (x4 > x3)\n",
        "\n",
        "            if 200000000000000 <= px <= 400000000000000 and 200000000000000 <= py <= 400000000000000 and validA and validB:\n",
        "                ans += 1\n",
        "print(ans)\n",
        "\n",
        "x, y, z, vx, vy, vz = Int('x'), Int('y'), Int('z'), Int('vx'), Int('vy'), Int('vz')\n",
        "T = [Int(f'T{i}') for i in range(n)]\n",
        "SOLVE = Solver()\n",
        "for i in range(n):\n",
        "    SOLVE.add(x + T[i] * vx - S[i][0] - T[i] * S[i][3] == 0)\n",
        "    SOLVE.add(y + T[i] * vy - S[i][1] - T[i] * S[i][4] == 0)\n",
        "    SOLVE.add(z + T[i] * vz - S[i][2] - T[i] * S[i][5] == 0)\n",
        "res = SOLVE.check()\n",
        "M = SOLVE.model()\n",
        "print(M.eval(x + y + z))\n"
      ],
      "metadata": {
        "colab": {
          "base_uri": "https://localhost:8080/"
        },
        "id": "XCC3zHR8LYu6",
        "outputId": "9b482e1f-1e07-4c84-d434-3300e51a856b"
      },
      "execution_count": 3,
      "outputs": [
        {
          "output_type": "stream",
          "name": "stdout",
          "text": [
            "23760\n",
            "888708704663413\n"
          ]
        }
      ]
    }
  ]
}