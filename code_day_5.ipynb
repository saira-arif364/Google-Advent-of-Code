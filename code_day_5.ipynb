{
  "nbformat": 4,
  "nbformat_minor": 0,
  "metadata": {
    "colab": {
      "provenance": []
    },
    "kernelspec": {
      "name": "python3",
      "display_name": "Python 3"
    },
    "language_info": {
      "name": "python"
    }
  },
  "cells": [
    {
      "cell_type": "code",
      "source": [
        "import re\n",
        "from collections import defaultdict\n",
        "\n",
        "# Provide the file path directly\n",
        "file_path = \"/content/input 5.txt\"\n",
        "\n",
        "# Read the content of the specified file\n",
        "with open(file_path, 'r') as file:\n",
        "    D = file.read().strip()\n",
        "\n",
        "L = D.split('\\n')\n",
        "\n",
        "parts = D.split('\\n\\n')\n",
        "seed, *others = parts\n",
        "seed = [int(x) for x in seed.split(':')[1].split()]\n",
        "\n",
        "class Function:\n",
        "    def __init__(self, S):\n",
        "        lines = S.split('\\n')[1:]  # throw away name\n",
        "        # dst src sz\n",
        "        self.tuples: list[tuple[int, int, int]] = [[int(x) for x in line.split()] for line in lines]\n",
        "\n",
        "    def apply_one(self, x: int) -> int:\n",
        "        for (dst, src, sz) in self.tuples:\n",
        "            if src <= x < src + sz:\n",
        "                return x + dst - src\n",
        "        return x\n",
        "\n",
        "    def apply_range(self, R):\n",
        "        A = []\n",
        "        for (dest, src, sz) in self.tuples:\n",
        "            src_end = src + sz\n",
        "            NR = []\n",
        "            while R:\n",
        "                (st, ed) = R.pop()\n",
        "                before = (st, min(ed, src))\n",
        "                inter = (max(st, src), min(src_end, ed))\n",
        "                after = (max(src_end, st), ed)\n",
        "                if before[1] > before[0]:\n",
        "                    NR.append(before)\n",
        "                if inter[1] > inter[0]:\n",
        "                    A.append((inter[0] - src + dest, inter[1] - src + dest))\n",
        "                if after[1] > after[0]:\n",
        "                    NR.append(after)\n",
        "            R = NR\n",
        "        return A + R\n",
        "\n",
        "Fs = [Function(s) for s in others]\n",
        "\n",
        "P1 = []\n",
        "for x in seed:\n",
        "    for f in Fs:\n",
        "        x = f.apply_one(x)\n",
        "    P1.append(x)\n",
        "print(min(P1))\n",
        "\n",
        "P2 = []\n",
        "pairs = list(zip(seed[::2], seed[1::2]))\n",
        "for st, sz in pairs:\n",
        "    R = [(st, st + sz)]\n",
        "    for f in Fs:\n",
        "        R = f.apply_range(R)\n",
        "    P2.append(min(R)[0])\n",
        "print(min(P2))\n"
      ],
      "metadata": {
        "id": "td5X2016KFhf"
      },
      "execution_count": null,
      "outputs": []
    }
  ]
}