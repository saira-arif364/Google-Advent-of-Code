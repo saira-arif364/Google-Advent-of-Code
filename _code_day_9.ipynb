{
  "nbformat": 4,
  "nbformat_minor": 0,
  "metadata": {
    "colab": {
      "provenance": []
    },
    "kernelspec": {
      "name": "python3",
      "display_name": "Python 3"
    },
    "language_info": {
      "name": "python"
    }
  },
  "cells": [
    {
      "cell_type": "code",
      "source": [
        "def extrapolate(array):\n",
        "    if all(x == 0 for x in array):\n",
        "        return 0\n",
        "\n",
        "    deltas = [y - x for x, y in zip(array, array[1:])]\n",
        "    diff = extrapolate(deltas)\n",
        "    return array[-1] + diff\n",
        "\n",
        "total = 0\n",
        "\n",
        "# Specify the file path\n",
        "file_path = \"/content/input 9.txt\"\n",
        "\n",
        "# Read data from the file\n",
        "with open(file_path, 'r') as file:\n",
        "    for line in file:\n",
        "        nums = list(map(int, line.split()))\n",
        "        total += extrapolate(nums)\n",
        "\n",
        "print(total)\n"
      ],
      "metadata": {
        "colab": {
          "base_uri": "https://localhost:8080/"
        },
        "id": "cMVUSTi-QzJo",
        "outputId": "ce3a4d97-25d6-4b54-dda2-46c8fa4973ab"
      },
      "execution_count": 2,
      "outputs": [
        {
          "output_type": "stream",
          "name": "stdout",
          "text": [
            "1641934234\n"
          ]
        }
      ]
    },
    {
      "cell_type": "code",
      "source": [
        "def extrapolate(array):\n",
        "    if all(x == 0 for x in array):\n",
        "        return 0\n",
        "\n",
        "    deltas = [y - x for x, y in zip(array, array[1:])]\n",
        "    diff = extrapolate(deltas)\n",
        "    return array[0] - diff\n",
        "\n",
        "total = 0\n",
        "\n",
        "# Specify the file path\n",
        "file_path = \"/content/input 9.txt\"\n",
        "\n",
        "# Read data from the file\n",
        "with open(file_path, 'r') as file:\n",
        "    for line in file:\n",
        "        nums = list(map(int, line.split()))\n",
        "        total += extrapolate(nums)\n",
        "\n",
        "print(total)\n"
      ],
      "metadata": {
        "colab": {
          "base_uri": "https://localhost:8080/"
        },
        "id": "CuFnxNsMRFfE",
        "outputId": "df67d841-b2f7-483d-b49c-e8abce2a4d82"
      },
      "execution_count": 3,
      "outputs": [
        {
          "output_type": "stream",
          "name": "stdout",
          "text": [
            "975\n"
          ]
        }
      ]
    }
  ]
}